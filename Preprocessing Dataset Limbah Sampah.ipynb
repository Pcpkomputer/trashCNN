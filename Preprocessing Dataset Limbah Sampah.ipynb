{
 "cells": [
  {
   "cell_type": "code",
   "execution_count": 1,
   "metadata": {},
   "outputs": [],
   "source": [
    "import numpy as np\n",
    "import matplotlib.pyplot as plt\n",
    "import os\n",
    "import cv2\n",
    "\n",
    "###### Inisiasi direktori/path dari dataset limbah sampah \n",
    "\n",
    "DATADIR = \"D:\\~fucking6\\~Fucking Skripshit\\DATASET\"\n",
    "TEST_DATADIR = \"D:\\~fucking6\\~Fucking Skripshit\\DATASET\\TEST\"\n",
    "TRAIN_DATADIR = \"D:\\~fucking6\\~Fucking Skripshit\\DATASET\\TRAIN\"\n",
    "CATEGORY = [\"O\",\"R\"]\n",
    "\n",
    "##### Variabel untuk menyimpan data matriks gambar dan label sementara\n",
    "\n",
    "testing = []\n",
    "train = []\n",
    "\n",
    "##### Fungsi untuk memuat data matriks gambar train dan testing dan melakukan preprocessing berupa\n",
    "##### mengubah menjadi citra grayscale, mengubah ukuran pixel menjadi 32x32, dan pelabelan data\n",
    "\n",
    "def create_training_data():\n",
    "    for x in CATEGORY:\n",
    "        label = CATEGORY.index(x)\n",
    "        for file in os.listdir(os.path.join(TRAIN_DATADIR,x)):\n",
    "            path = os.path.join(TRAIN_DATADIR,x,file)\n",
    "            imgdata = cv2.imread(path, cv2.IMREAD_GRAYSCALE)\n",
    "            imgdata = cv2.resize(imgdata, (32,32))\n",
    "            train.append([imgdata,label])\n",
    "\n",
    "def create_testing_data():\n",
    "    for x in CATEGORY:\n",
    "        label = CATEGORY.index(x)\n",
    "        for file in os.listdir(os.path.join(TEST_DATADIR,x)):\n",
    "            path = os.path.join(TEST_DATADIR,x,file)\n",
    "            imgdata = cv2.imread(path, cv2.IMREAD_GRAYSCALE)\n",
    "            imgdata = cv2.resize(imgdata, (32,32))\n",
    "            testing.append([imgdata,label])\n"
   ]
  },
  {
   "cell_type": "code",
   "execution_count": 2,
   "metadata": {},
   "outputs": [
    {
     "name": "stdout",
     "output_type": "stream",
     "text": [
      "Berhasil memuat training data\n"
     ]
    }
   ],
   "source": [
    "#### Menjalankan fungsi untuk memuat training data\n",
    "\n",
    "create_training_data()\n",
    "print(\"Berhasil memuat training data\")"
   ]
  },
  {
   "cell_type": "code",
   "execution_count": 3,
   "metadata": {},
   "outputs": [
    {
     "name": "stdout",
     "output_type": "stream",
     "text": [
      "Berhasil memuat testing data\n"
     ]
    }
   ],
   "source": [
    "#### Menjalankan fungsi untuk memuat testing data\n",
    "\n",
    "create_testing_data()\n",
    "print(\"Berhasil memuat testing data\")"
   ]
  },
  {
   "cell_type": "code",
   "execution_count": 4,
   "metadata": {},
   "outputs": [],
   "source": [
    "### Mengacak index dari list testing dan train agar tidak tersusun secara urut label\n",
    "\n",
    "import random\n",
    "\n",
    "random.shuffle(testing)\n",
    "random.shuffle(train)"
   ]
  },
  {
   "cell_type": "code",
   "execution_count": 5,
   "metadata": {},
   "outputs": [],
   "source": [
    "#### Perintah untuk melakukan ekstraksi feature dan label ke dalam masing-masing variabel X dan y\n",
    "\n",
    "X_train=[]\n",
    "y_train=[]\n",
    "\n",
    "X_test=[]\n",
    "y_test=[]\n",
    "\n",
    "for feature, label in train:\n",
    "    X_train.append(feature)\n",
    "    y_train.append(label)\n",
    "\n",
    "for feature, label in testing:\n",
    "    X_test.append(feature)\n",
    "    y_test.append(label)"
   ]
  },
  {
   "cell_type": "code",
   "execution_count": 6,
   "metadata": {},
   "outputs": [],
   "source": [
    "#### Mengubah list menjadi tipe kelas numpy array\n",
    "\n",
    "X_train=np.array(X_train).reshape(-1,32,32,1)\n",
    "X_test=np.array(X_test).reshape(-1,32,32,1)\n",
    "\n",
    "y_train=np.array(y_train)\n",
    "y_test=np.array(y_test)"
   ]
  },
  {
   "cell_type": "code",
   "execution_count": 7,
   "metadata": {},
   "outputs": [],
   "source": [
    "### Melakukan feature scalling\n",
    "\n",
    "X_train=X_train/255.0\n",
    "X_test=X_test/255.0"
   ]
  },
  {
   "cell_type": "code",
   "execution_count": 8,
   "metadata": {},
   "outputs": [],
   "source": [
    "### Menyimpan feature dan label dengan pickle agar tidak perlu melakukan preprocessing ulang\n",
    "\n",
    "import pickle\n",
    "\n",
    "pickle.dump(X_train,open(\"X_train.p\",\"wb\"))\n",
    "pickle.dump(y_train,open(\"y_train.p\",\"wb\"))\n",
    "\n",
    "pickle.dump(X_test,open(\"X_test.p\",\"wb\"))\n",
    "pickle.dump(y_test,open(\"y_test.p\",\"wb\"))"
   ]
  }
 ],
 "metadata": {
  "kernelspec": {
   "display_name": "Python 3",
   "language": "python",
   "name": "python3"
  },
  "language_info": {
   "codemirror_mode": {
    "name": "ipython",
    "version": 3
   },
   "file_extension": ".py",
   "mimetype": "text/x-python",
   "name": "python",
   "nbconvert_exporter": "python",
   "pygments_lexer": "ipython3",
   "version": "3.7.6"
  }
 },
 "nbformat": 4,
 "nbformat_minor": 4
}
